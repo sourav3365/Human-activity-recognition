{
 "cells": [
  {
   "cell_type": "code",
   "execution_count": 137,
   "metadata": {},
   "outputs": [],
   "source": [
    "import pandas as pd\n",
    "import numpy as np\n",
    "import math\n",
    "import matplotlib.pyplot as plt"
   ]
  },
  {
   "cell_type": "code",
   "execution_count": 214,
   "metadata": {},
   "outputs": [],
   "source": [
    "from keras.models import Sequential\n",
    "from keras.layers import Dense\n",
    "from tensorflow import keras\n",
    "from tensorflow.keras import layers\n",
    "from keras.layers import Dropout\n",
    "from keras.models import model_from_json"
   ]
  },
  {
   "cell_type": "code",
   "execution_count": 120,
   "metadata": {},
   "outputs": [],
   "source": [
    "from sklearn.preprocessing import OneHotEncoder\n",
    "from sklearn.model_selection import train_test_split"
   ]
  },
  {
   "cell_type": "markdown",
   "metadata": {},
   "source": [
    "<h1>Loading the data"
   ]
  },
  {
   "cell_type": "code",
   "execution_count": 5,
   "metadata": {},
   "outputs": [],
   "source": [
    "train_data = pd.read_csv('csv_files\\X_train.csv')\n",
    "test_data = pd.read_csv('csv_files\\X_test.csv')"
   ]
  },
  {
   "cell_type": "code",
   "execution_count": 8,
   "metadata": {},
   "outputs": [
    {
     "data": {
      "text/html": [
       "<div>\n",
       "<style scoped>\n",
       "    .dataframe tbody tr th:only-of-type {\n",
       "        vertical-align: middle;\n",
       "    }\n",
       "\n",
       "    .dataframe tbody tr th {\n",
       "        vertical-align: top;\n",
       "    }\n",
       "\n",
       "    .dataframe thead th {\n",
       "        text-align: right;\n",
       "    }\n",
       "</style>\n",
       "<table border=\"1\" class=\"dataframe\">\n",
       "  <thead>\n",
       "    <tr style=\"text-align: right;\">\n",
       "      <th></th>\n",
       "      <th>1 tBodyAcc-mean()-X\\n</th>\n",
       "      <th>2 tBodyAcc-mean()-Y\\n</th>\n",
       "      <th>3 tBodyAcc-mean()-Z\\n</th>\n",
       "      <th>4 tBodyAcc-std()-X\\n</th>\n",
       "      <th>5 tBodyAcc-std()-Y\\n</th>\n",
       "      <th>6 tBodyAcc-std()-Z\\n</th>\n",
       "      <th>7 tBodyAcc-mad()-X\\n</th>\n",
       "      <th>8 tBodyAcc-mad()-Y\\n</th>\n",
       "      <th>9 tBodyAcc-mad()-Z\\n</th>\n",
       "      <th>10 tBodyAcc-max()-X\\n</th>\n",
       "      <th>...</th>\n",
       "      <th>555 angle(tBodyAccMean,gravity)\\n</th>\n",
       "      <th>556 angle(tBodyAccJerkMean),gravityMean)\\n</th>\n",
       "      <th>557 angle(tBodyGyroMean,gravityMean)\\n</th>\n",
       "      <th>558 angle(tBodyGyroJerkMean,gravityMean)\\n</th>\n",
       "      <th>559 angle(X,gravityMean)\\n</th>\n",
       "      <th>560 angle(Y,gravityMean)\\n</th>\n",
       "      <th>561 angle(Z,gravityMean)\\n</th>\n",
       "      <th>activity</th>\n",
       "      <th>labels</th>\n",
       "      <th>subject</th>\n",
       "    </tr>\n",
       "  </thead>\n",
       "  <tbody>\n",
       "    <tr>\n",
       "      <th>3628</th>\n",
       "      <td>0.279245</td>\n",
       "      <td>-0.011514</td>\n",
       "      <td>-0.099249</td>\n",
       "      <td>-0.995864</td>\n",
       "      <td>-0.960488</td>\n",
       "      <td>-0.986549</td>\n",
       "      <td>-0.99618</td>\n",
       "      <td>-0.955283</td>\n",
       "      <td>-0.987736</td>\n",
       "      <td>-0.941649</td>\n",
       "      <td>...</td>\n",
       "      <td>0.018552</td>\n",
       "      <td>-0.132583</td>\n",
       "      <td>-0.042534</td>\n",
       "      <td>0.304388</td>\n",
       "      <td>-0.717543</td>\n",
       "      <td>0.275956</td>\n",
       "      <td>-0.064355</td>\n",
       "      <td>5</td>\n",
       "      <td>STANDING</td>\n",
       "      <td>19</td>\n",
       "    </tr>\n",
       "  </tbody>\n",
       "</table>\n",
       "<p>1 rows × 564 columns</p>\n",
       "</div>"
      ],
      "text/plain": [
       "      1 tBodyAcc-mean()-X\\n  2 tBodyAcc-mean()-Y\\n  3 tBodyAcc-mean()-Z\\n  \\\n",
       "3628               0.279245              -0.011514              -0.099249   \n",
       "\n",
       "      4 tBodyAcc-std()-X\\n  5 tBodyAcc-std()-Y\\n  6 tBodyAcc-std()-Z\\n  \\\n",
       "3628             -0.995864             -0.960488             -0.986549   \n",
       "\n",
       "      7 tBodyAcc-mad()-X\\n  8 tBodyAcc-mad()-Y\\n  9 tBodyAcc-mad()-Z\\n  \\\n",
       "3628              -0.99618             -0.955283             -0.987736   \n",
       "\n",
       "      10 tBodyAcc-max()-X\\n  ...  555 angle(tBodyAccMean,gravity)\\n  \\\n",
       "3628              -0.941649  ...                           0.018552   \n",
       "\n",
       "      556 angle(tBodyAccJerkMean),gravityMean)\\n  \\\n",
       "3628                                   -0.132583   \n",
       "\n",
       "      557 angle(tBodyGyroMean,gravityMean)\\n  \\\n",
       "3628                               -0.042534   \n",
       "\n",
       "      558 angle(tBodyGyroJerkMean,gravityMean)\\n  559 angle(X,gravityMean)\\n  \\\n",
       "3628                                    0.304388                   -0.717543   \n",
       "\n",
       "      560 angle(Y,gravityMean)\\n  561 angle(Z,gravityMean)\\n  activity  \\\n",
       "3628                    0.275956                   -0.064355         5   \n",
       "\n",
       "        labels  subject  \n",
       "3628  STANDING       19  \n",
       "\n",
       "[1 rows x 564 columns]"
      ]
     },
     "execution_count": 8,
     "metadata": {},
     "output_type": "execute_result"
    }
   ],
   "source": [
    "train_data.sample(1)"
   ]
  },
  {
   "cell_type": "markdown",
   "metadata": {},
   "source": [
    "<h1>Training a NN"
   ]
  },
  {
   "cell_type": "markdown",
   "metadata": {},
   "source": [
    "<h3>1.Preparing the data"
   ]
  },
  {
   "cell_type": "code",
   "execution_count": 101,
   "metadata": {},
   "outputs": [],
   "source": [
    "#Creating the input\n",
    "train_x = train_data.iloc[:,0:561].values\n",
    "test_x = test_data.iloc[:,0:561].values"
   ]
  },
  {
   "cell_type": "code",
   "execution_count": 114,
   "metadata": {},
   "outputs": [],
   "source": [
    "#Loading the target in array format\n",
    "train_y=train_data.loc[:,'activity'].values\n",
    "test_y=test_data.loc[:,'activity'].values"
   ]
  },
  {
   "cell_type": "code",
   "execution_count": 117,
   "metadata": {},
   "outputs": [],
   "source": [
    "#One hot encoding the target\n",
    "train_y_ohe = ohe.fit_transform(train_y.reshape(-1,1)).toarray()\n",
    "test_y_ohe = ohe.fit_transform(test_y.reshape(-1,1)).toarray()"
   ]
  },
  {
   "cell_type": "markdown",
   "metadata": {},
   "source": [
    "<h3>2. Defining the model architecture"
   ]
  },
  {
   "cell_type": "code",
   "execution_count": 191,
   "metadata": {},
   "outputs": [],
   "source": [
    "#Creating the model\n",
    "def model(optimizer,mertics,loss='categorical_crossentropy',dropout=False):\n",
    "    # Neural network\n",
    "    model = Sequential()\n",
    "    \n",
    "    if dropout:\n",
    "        model.add(Dropout(0.2, input_shape=(561,)))\n",
    "        \n",
    "    else:\n",
    "        #Number of hidden neuron is selecting using sqrt(dim of input*no of output)\n",
    "        model.add(Dense(58, input_dim=561, activation='relu'))\n",
    "        \n",
    "    #Number of hidden neuron selected is half of what we seleted in previous layer\n",
    "    model.add(Dense(29, activation='relu'))\n",
    "    model.add(Dense(6, activation='softmax'))\n",
    "    \n",
    "    model.summary()\n",
    "    \n",
    "    model.compile(loss=loss, optimizer=optimizer, metrics=[metrics])\n",
    "    \n",
    "    return model\n"
   ]
  },
  {
   "cell_type": "markdown",
   "metadata": {},
   "source": [
    "<h3>3. Fitting the model"
   ]
  },
  {
   "cell_type": "code",
   "execution_count": 183,
   "metadata": {},
   "outputs": [],
   "source": [
    "#selecting the optimizer\n",
    "opt = keras.optimizers.Adam(learning_rate=0.001)\n",
    "#Selecting the mertics\n",
    "metrics = keras.metrics.CategoricalAccuracy()"
   ]
  },
  {
   "cell_type": "code",
   "execution_count": 184,
   "metadata": {
    "scrolled": false
   },
   "outputs": [
    {
     "name": "stdout",
     "output_type": "stream",
     "text": [
      "Model: \"sequential_7\"\n",
      "_________________________________________________________________\n",
      "Layer (type)                 Output Shape              Param #   \n",
      "=================================================================\n",
      "dense_18 (Dense)             (None, 58)                32596     \n",
      "_________________________________________________________________\n",
      "dense_19 (Dense)             (None, 29)                1711      \n",
      "_________________________________________________________________\n",
      "dense_20 (Dense)             (None, 6)                 180       \n",
      "=================================================================\n",
      "Total params: 34,487\n",
      "Trainable params: 34,487\n",
      "Non-trainable params: 0\n",
      "_________________________________________________________________\n"
     ]
    }
   ],
   "source": [
    "#Calling the model function\n",
    "model_ = model(opt,metrics)"
   ]
  },
  {
   "cell_type": "code",
   "execution_count": 185,
   "metadata": {
    "scrolled": true
   },
   "outputs": [
    {
     "name": "stdout",
     "output_type": "stream",
     "text": [
      "Epoch 1/50\n",
      "115/115 [==============================] - 4s 25ms/step - loss: 1.0885 - categorical_accuracy: 0.5874 - val_loss: 0.3994 - val_categorical_accuracy: 0.8721\n",
      "Epoch 2/50\n",
      "115/115 [==============================] - 2s 14ms/step - loss: 0.2766 - categorical_accuracy: 0.9065 - val_loss: 0.2532 - val_categorical_accuracy: 0.8941\n",
      "Epoch 3/50\n",
      "115/115 [==============================] - 2s 16ms/step - loss: 0.1743 - categorical_accuracy: 0.9355 - val_loss: 0.2207 - val_categorical_accuracy: 0.9169\n",
      "Epoch 4/50\n",
      "115/115 [==============================] - 2s 20ms/step - loss: 0.1326 - categorical_accuracy: 0.9534 - val_loss: 0.1740 - val_categorical_accuracy: 0.9369\n",
      "Epoch 5/50\n",
      "115/115 [==============================] - 1s 12ms/step - loss: 0.1145 - categorical_accuracy: 0.9554 - val_loss: 0.1490 - val_categorical_accuracy: 0.9430\n",
      "Epoch 6/50\n",
      "115/115 [==============================] - 2s 14ms/step - loss: 0.0804 - categorical_accuracy: 0.9723 - val_loss: 0.1399 - val_categorical_accuracy: 0.9491\n",
      "Epoch 7/50\n",
      "115/115 [==============================] - 2s 17ms/step - loss: 0.0761 - categorical_accuracy: 0.9729 - val_loss: 0.1385 - val_categorical_accuracy: 0.9494\n",
      "Epoch 8/50\n",
      "115/115 [==============================] - 1s 12ms/step - loss: 0.0723 - categorical_accuracy: 0.9744 - val_loss: 0.1431 - val_categorical_accuracy: 0.9477\n",
      "Epoch 9/50\n",
      "115/115 [==============================] - 2s 16ms/step - loss: 0.0597 - categorical_accuracy: 0.9777 - val_loss: 0.2988 - val_categorical_accuracy: 0.8863\n",
      "Epoch 10/50\n",
      "115/115 [==============================] - 2s 20ms/step - loss: 0.0618 - categorical_accuracy: 0.9762 - val_loss: 0.1538 - val_categorical_accuracy: 0.9437\n",
      "Epoch 11/50\n",
      "115/115 [==============================] - 2s 15ms/step - loss: 0.0484 - categorical_accuracy: 0.9823 - val_loss: 0.1530 - val_categorical_accuracy: 0.9437\n",
      "Epoch 12/50\n",
      "115/115 [==============================] - 1s 13ms/step - loss: 0.0550 - categorical_accuracy: 0.9768 - val_loss: 0.1754 - val_categorical_accuracy: 0.9389\n",
      "Epoch 13/50\n",
      "115/115 [==============================] - 2s 17ms/step - loss: 0.0629 - categorical_accuracy: 0.9740 - val_loss: 0.2135 - val_categorical_accuracy: 0.9237\n",
      "Epoch 14/50\n",
      "115/115 [==============================] - 2s 21ms/step - loss: 0.0483 - categorical_accuracy: 0.9811 - val_loss: 0.1496 - val_categorical_accuracy: 0.9471\n",
      "Epoch 15/50\n",
      "115/115 [==============================] - 2s 14ms/step - loss: 0.0447 - categorical_accuracy: 0.9847 - val_loss: 0.2253 - val_categorical_accuracy: 0.9226\n",
      "Epoch 16/50\n",
      "115/115 [==============================] - 1s 13ms/step - loss: 0.0463 - categorical_accuracy: 0.9821 - val_loss: 0.2196 - val_categorical_accuracy: 0.9250\n",
      "Epoch 17/50\n",
      "115/115 [==============================] - 2s 20ms/step - loss: 0.0580 - categorical_accuracy: 0.9763 - val_loss: 0.1636 - val_categorical_accuracy: 0.9430\n",
      "Epoch 18/50\n",
      "115/115 [==============================] - 1s 12ms/step - loss: 0.0494 - categorical_accuracy: 0.9819 - val_loss: 0.1546 - val_categorical_accuracy: 0.9474\n",
      "Epoch 19/50\n",
      "115/115 [==============================] - 1s 12ms/step - loss: 0.0433 - categorical_accuracy: 0.9831 - val_loss: 0.1817 - val_categorical_accuracy: 0.9423\n",
      "Epoch 20/50\n",
      "115/115 [==============================] - 1s 13ms/step - loss: 0.0338 - categorical_accuracy: 0.9880 - val_loss: 0.1610 - val_categorical_accuracy: 0.9430\n",
      "Epoch 21/50\n",
      "115/115 [==============================] - 2s 19ms/step - loss: 0.0386 - categorical_accuracy: 0.9872 - val_loss: 0.1804 - val_categorical_accuracy: 0.9399\n",
      "Epoch 22/50\n",
      "115/115 [==============================] - 2s 18ms/step - loss: 0.0351 - categorical_accuracy: 0.9879 - val_loss: 0.1786 - val_categorical_accuracy: 0.9430\n",
      "Epoch 23/50\n",
      "115/115 [==============================] - 2s 17ms/step - loss: 0.0343 - categorical_accuracy: 0.9869 - val_loss: 0.1623 - val_categorical_accuracy: 0.9423\n",
      "Epoch 24/50\n",
      "115/115 [==============================] - 2s 16ms/step - loss: 0.0475 - categorical_accuracy: 0.9822 - val_loss: 0.3237 - val_categorical_accuracy: 0.9067\n",
      "Epoch 25/50\n",
      "115/115 [==============================] - 2s 17ms/step - loss: 0.0655 - categorical_accuracy: 0.9730 - val_loss: 0.1635 - val_categorical_accuracy: 0.9454\n",
      "Epoch 26/50\n",
      "115/115 [==============================] - 2s 19ms/step - loss: 0.0319 - categorical_accuracy: 0.9886 - val_loss: 0.1720 - val_categorical_accuracy: 0.9481\n",
      "Epoch 27/50\n",
      "115/115 [==============================] - 2s 14ms/step - loss: 0.0404 - categorical_accuracy: 0.9858 - val_loss: 0.1670 - val_categorical_accuracy: 0.9515\n",
      "Epoch 28/50\n",
      "115/115 [==============================] - 2s 16ms/step - loss: 0.0337 - categorical_accuracy: 0.9880 - val_loss: 0.1705 - val_categorical_accuracy: 0.9464\n",
      "Epoch 29/50\n",
      "115/115 [==============================] - 2s 16ms/step - loss: 0.0310 - categorical_accuracy: 0.9870 - val_loss: 0.1892 - val_categorical_accuracy: 0.9440\n",
      "Epoch 30/50\n",
      "115/115 [==============================] - 3s 22ms/step - loss: 0.0280 - categorical_accuracy: 0.9907 - val_loss: 0.1775 - val_categorical_accuracy: 0.9433\n",
      "Epoch 31/50\n",
      "115/115 [==============================] - 2s 17ms/step - loss: 0.0514 - categorical_accuracy: 0.9816 - val_loss: 0.3304 - val_categorical_accuracy: 0.9104\n",
      "Epoch 32/50\n",
      "115/115 [==============================] - 3s 27ms/step - loss: 0.0372 - categorical_accuracy: 0.9846 - val_loss: 0.1928 - val_categorical_accuracy: 0.9460\n",
      "Epoch 33/50\n",
      "115/115 [==============================] - 1s 13ms/step - loss: 0.0276 - categorical_accuracy: 0.9896 - val_loss: 0.2088 - val_categorical_accuracy: 0.9389\n",
      "Epoch 34/50\n",
      "115/115 [==============================] - 2s 15ms/step - loss: 0.0217 - categorical_accuracy: 0.9925 - val_loss: 0.3288 - val_categorical_accuracy: 0.9162\n",
      "Epoch 35/50\n",
      "115/115 [==============================] - 2s 20ms/step - loss: 0.0583 - categorical_accuracy: 0.9767 - val_loss: 0.2771 - val_categorical_accuracy: 0.9257\n",
      "Epoch 36/50\n",
      "115/115 [==============================] - 2s 14ms/step - loss: 0.0342 - categorical_accuracy: 0.9873 - val_loss: 0.2274 - val_categorical_accuracy: 0.9437\n",
      "Epoch 37/50\n",
      "115/115 [==============================] - 2s 14ms/step - loss: 0.0246 - categorical_accuracy: 0.9918 - val_loss: 0.1867 - val_categorical_accuracy: 0.9515\n",
      "Epoch 38/50\n",
      "115/115 [==============================] - 2s 18ms/step - loss: 0.0194 - categorical_accuracy: 0.9940 - val_loss: 0.2665 - val_categorical_accuracy: 0.9348\n",
      "Epoch 39/50\n",
      "115/115 [==============================] - 1s 13ms/step - loss: 0.0323 - categorical_accuracy: 0.9883 - val_loss: 0.3186 - val_categorical_accuracy: 0.9196\n",
      "Epoch 40/50\n",
      "115/115 [==============================] - 1s 13ms/step - loss: 0.0297 - categorical_accuracy: 0.9882 - val_loss: 0.2544 - val_categorical_accuracy: 0.9369\n",
      "Epoch 41/50\n",
      "115/115 [==============================] - 2s 14ms/step - loss: 0.0311 - categorical_accuracy: 0.9878 - val_loss: 0.2087 - val_categorical_accuracy: 0.9396\n",
      "Epoch 42/50\n",
      "115/115 [==============================] - 2s 20ms/step - loss: 0.0225 - categorical_accuracy: 0.9926 - val_loss: 0.2660 - val_categorical_accuracy: 0.9294\n",
      "Epoch 43/50\n",
      "115/115 [==============================] - 2s 14ms/step - loss: 0.0243 - categorical_accuracy: 0.9899 - val_loss: 0.2431 - val_categorical_accuracy: 0.9416\n",
      "Epoch 44/50\n",
      "115/115 [==============================] - 2s 17ms/step - loss: 0.0212 - categorical_accuracy: 0.9920 - val_loss: 0.2026 - val_categorical_accuracy: 0.9474\n",
      "Epoch 45/50\n",
      "115/115 [==============================] - 3s 22ms/step - loss: 0.0166 - categorical_accuracy: 0.9939 - val_loss: 0.1971 - val_categorical_accuracy: 0.9450\n",
      "Epoch 46/50\n",
      "115/115 [==============================] - 2s 15ms/step - loss: 0.0260 - categorical_accuracy: 0.9895 - val_loss: 0.2548 - val_categorical_accuracy: 0.9396\n",
      "Epoch 47/50\n",
      "115/115 [==============================] - 2s 14ms/step - loss: 0.0188 - categorical_accuracy: 0.9933 - val_loss: 0.2502 - val_categorical_accuracy: 0.9399\n",
      "Epoch 48/50\n",
      "115/115 [==============================] - 2s 19ms/step - loss: 0.0131 - categorical_accuracy: 0.9961 - val_loss: 0.2297 - val_categorical_accuracy: 0.9355\n",
      "Epoch 49/50\n",
      "115/115 [==============================] - 2s 14ms/step - loss: 0.0473 - categorical_accuracy: 0.9819 - val_loss: 0.2115 - val_categorical_accuracy: 0.9450\n"
     ]
    },
    {
     "name": "stdout",
     "output_type": "stream",
     "text": [
      "Epoch 50/50\n",
      "115/115 [==============================] - 2s 15ms/step - loss: 0.0213 - categorical_accuracy: 0.9920 - val_loss: 0.1903 - val_categorical_accuracy: 0.9440\n"
     ]
    }
   ],
   "source": [
    "#Fitting the model on train and test data\n",
    "history = model_.fit(train_x, train_y_ohe, validation_data=(test_x,test_y_ohe), epochs = 50, batch_size = 64)"
   ]
  },
  {
   "cell_type": "markdown",
   "metadata": {},
   "source": [
    "<h3>4. Plotting the results"
   ]
  },
  {
   "cell_type": "code",
   "execution_count": 148,
   "metadata": {},
   "outputs": [
    {
     "data": {
      "text/plain": [
       "dict_keys(['loss', 'categorical_accuracy', 'val_loss', 'val_categorical_accuracy'])"
      ]
     },
     "execution_count": 148,
     "metadata": {},
     "output_type": "execute_result"
    }
   ],
   "source": [
    "history.history.keys()"
   ]
  },
  {
   "cell_type": "code",
   "execution_count": 175,
   "metadata": {},
   "outputs": [],
   "source": [
    "def plot_accuracy_and_loss(history):\n",
    "    \n",
    "    fig,ax = plt.subplots(1,2)\n",
    "    fig.set_size_inches(12, 4)\n",
    "    \n",
    "    ax[0].set_title(\"Model accuracy\")\n",
    "    ax[0].set_xlabel(\"Epochs\")\n",
    "    ax[0].set_ylabel(\"Accuracy\")\n",
    "    ax[0].plot(range(1,51),history.history['categorical_accuracy'])\n",
    "    ax[0].plot(range(1,51),history.history['val_categorical_accuracy'])\n",
    "    ax[0].legend(['Train', 'Test'], loc='upper left')\n",
    "    \n",
    "    ax[1].set_title(\"Model loss\")\n",
    "    ax[1].set_xlabel(\"Epochs\")\n",
    "    ax[1].set_ylabel(\"Loss\")\n",
    "    ax[1].plot(range(1,51),history.history['loss'])\n",
    "    ax[1].plot(range(1,51),history.history['val_loss'])\n",
    "    ax[1].legend(['train loss', 'test loss'], loc='upper left')\n",
    "    \n",
    "    plt.show()"
   ]
  },
  {
   "cell_type": "code",
   "execution_count": 186,
   "metadata": {
    "scrolled": true
   },
   "outputs": [
    {
     "data": {
      "image/png": "[encoded data removed]",
      "text/plain": [
       "<Figure size 864x288 with 2 Axes>"
      ]
     },
     "metadata": {
      "needs_background": "light"
     },
     "output_type": "display_data"
    }
   ],
   "source": [
    "plot_accuracy_and_loss(history)"
   ]
  },
  {
   "cell_type": "markdown",
   "metadata": {},
   "source": [
    "<h3>5. Model using Dropout and ADAM optimizer"
   ]
  },
  {
   "cell_type": "code",
   "execution_count": null,
   "metadata": {},
   "outputs": [],
   "source": [
    "#selecting the optimizer\n",
    "opt = keras.optimizers.Adam(learning_rate=0.001)\n",
    "#Selecting the mertics\n",
    "metrics = keras.metrics.CategoricalAccuracy()"
   ]
  },
  {
   "cell_type": "code",
   "execution_count": 194,
   "metadata": {},
   "outputs": [
    {
     "name": "stdout",
     "output_type": "stream",
     "text": [
      "Model: \"sequential_10\"\n",
      "_________________________________________________________________\n",
      "Layer (type)                 Output Shape              Param #   \n",
      "=================================================================\n",
      "dropout (Dropout)            (None, 561)               0         \n",
      "_________________________________________________________________\n",
      "dense_21 (Dense)             (None, 29)                16298     \n",
      "_________________________________________________________________\n",
      "dense_22 (Dense)             (None, 6)                 180       \n",
      "=================================================================\n",
      "Total params: 16,478\n",
      "Trainable params: 16,478\n",
      "Non-trainable params: 0\n",
      "_________________________________________________________________\n"
     ]
    }
   ],
   "source": [
    "model_d = model(opt,metrics,dropout=True)"
   ]
  },
  {
   "cell_type": "code",
   "execution_count": 195,
   "metadata": {
    "scrolled": true
   },
   "outputs": [
    {
     "name": "stdout",
     "output_type": "stream",
     "text": [
      "Epoch 1/50\n",
      "115/115 [==============================] - 3s 19ms/step - loss: 0.9945 - categorical_accuracy: 0.8128 - val_loss: 0.3825 - val_categorical_accuracy: 0.8395\n",
      "Epoch 2/50\n",
      "115/115 [==============================] - 2s 13ms/step - loss: 0.2950 - categorical_accuracy: 0.8840 - val_loss: 0.2523 - val_categorical_accuracy: 0.9080\n",
      "Epoch 3/50\n",
      "115/115 [==============================] - 1s 12ms/step - loss: 0.2381 - categorical_accuracy: 0.9074 - val_loss: 0.2152 - val_categorical_accuracy: 0.9294\n",
      "Epoch 4/50\n",
      "115/115 [==============================] - 2s 18ms/step - loss: 0.1921 - categorical_accuracy: 0.9316 - val_loss: 0.1990 - val_categorical_accuracy: 0.9348\n",
      "Epoch 5/50\n",
      "115/115 [==============================] - 1s 13ms/step - loss: 0.1760 - categorical_accuracy: 0.9342 - val_loss: 0.2133 - val_categorical_accuracy: 0.9145\n",
      "Epoch 6/50\n",
      "115/115 [==============================] - 2s 14ms/step - loss: 0.1565 - categorical_accuracy: 0.9413 - val_loss: 0.1728 - val_categorical_accuracy: 0.9403\n",
      "Epoch 7/50\n",
      "115/115 [==============================] - 2s 18ms/step - loss: 0.1534 - categorical_accuracy: 0.9430 - val_loss: 0.1635 - val_categorical_accuracy: 0.9406\n",
      "Epoch 8/50\n",
      "115/115 [==============================] - 2s 12ms/step - loss: 0.1441 - categorical_accuracy: 0.9436 - val_loss: 0.1774 - val_categorical_accuracy: 0.9318\n",
      "Epoch 9/50\n",
      "115/115 [==============================] - 2s 15ms/step - loss: 0.1367 - categorical_accuracy: 0.9485 - val_loss: 0.1550 - val_categorical_accuracy: 0.9420\n",
      "Epoch 10/50\n",
      "115/115 [==============================] - 2s 15ms/step - loss: 0.1337 - categorical_accuracy: 0.9474 - val_loss: 0.1566 - val_categorical_accuracy: 0.9406\n",
      "Epoch 11/50\n",
      "115/115 [==============================] - 2s 19ms/step - loss: 0.1176 - categorical_accuracy: 0.9558 - val_loss: 0.1503 - val_categorical_accuracy: 0.9440\n",
      "Epoch 12/50\n",
      "115/115 [==============================] - 1s 12ms/step - loss: 0.1232 - categorical_accuracy: 0.9532 - val_loss: 0.1466 - val_categorical_accuracy: 0.9460\n",
      "Epoch 13/50\n",
      "115/115 [==============================] - 1s 12ms/step - loss: 0.1117 - categorical_accuracy: 0.9588 - val_loss: 0.1591 - val_categorical_accuracy: 0.9332\n",
      "Epoch 14/50\n",
      "115/115 [==============================] - 2s 18ms/step - loss: 0.1122 - categorical_accuracy: 0.9582 - val_loss: 0.1529 - val_categorical_accuracy: 0.9382\n",
      "Epoch 15/50\n",
      "115/115 [==============================] - 1s 12ms/step - loss: 0.1058 - categorical_accuracy: 0.9581 - val_loss: 0.1596 - val_categorical_accuracy: 0.9406\n",
      "Epoch 16/50\n",
      "115/115 [==============================] - 1s 13ms/step - loss: 0.0987 - categorical_accuracy: 0.9654 - val_loss: 0.1457 - val_categorical_accuracy: 0.9423\n",
      "Epoch 17/50\n",
      "115/115 [==============================] - 1s 13ms/step - loss: 0.1097 - categorical_accuracy: 0.9564 - val_loss: 0.1454 - val_categorical_accuracy: 0.9430\n",
      "Epoch 18/50\n",
      "115/115 [==============================] - 2s 17ms/step - loss: 0.1030 - categorical_accuracy: 0.9607 - val_loss: 0.1417 - val_categorical_accuracy: 0.9457\n",
      "Epoch 19/50\n",
      "115/115 [==============================] - 2s 13ms/step - loss: 0.1030 - categorical_accuracy: 0.9576 - val_loss: 0.1486 - val_categorical_accuracy: 0.9423\n",
      "Epoch 20/50\n",
      "115/115 [==============================] - 1s 13ms/step - loss: 0.1044 - categorical_accuracy: 0.9626 - val_loss: 0.1397 - val_categorical_accuracy: 0.9457\n",
      "Epoch 21/50\n",
      "115/115 [==============================] - 2s 19ms/step - loss: 0.0970 - categorical_accuracy: 0.9623 - val_loss: 0.1567 - val_categorical_accuracy: 0.9396\n",
      "Epoch 22/50\n",
      "115/115 [==============================] - 1s 11ms/step - loss: 0.0892 - categorical_accuracy: 0.9644 - val_loss: 0.1557 - val_categorical_accuracy: 0.9386\n",
      "Epoch 23/50\n",
      "115/115 [==============================] - 1s 12ms/step - loss: 0.0950 - categorical_accuracy: 0.9662 - val_loss: 0.1534 - val_categorical_accuracy: 0.9416\n",
      "Epoch 24/50\n",
      "115/115 [==============================] - 2s 14ms/step - loss: 0.0896 - categorical_accuracy: 0.9647 - val_loss: 0.1549 - val_categorical_accuracy: 0.9410\n",
      "Epoch 25/50\n",
      "115/115 [==============================] - 3s 24ms/step - loss: 0.0944 - categorical_accuracy: 0.9620 - val_loss: 0.1700 - val_categorical_accuracy: 0.9379\n",
      "Epoch 26/50\n",
      "115/115 [==============================] - 1s 12ms/step - loss: 0.0907 - categorical_accuracy: 0.9613 - val_loss: 0.1855 - val_categorical_accuracy: 0.9250\n",
      "Epoch 27/50\n",
      "115/115 [==============================] - 1s 13ms/step - loss: 0.0809 - categorical_accuracy: 0.9676 - val_loss: 0.1468 - val_categorical_accuracy: 0.9403\n",
      "Epoch 28/50\n",
      "115/115 [==============================] - 3s 23ms/step - loss: 0.0849 - categorical_accuracy: 0.9672 - val_loss: 0.1781 - val_categorical_accuracy: 0.9345\n",
      "Epoch 29/50\n",
      "115/115 [==============================] - 2s 20ms/step - loss: 0.0894 - categorical_accuracy: 0.9620 - val_loss: 0.1529 - val_categorical_accuracy: 0.9386\n",
      "Epoch 30/50\n",
      "115/115 [==============================] - 1s 12ms/step - loss: 0.0852 - categorical_accuracy: 0.9671 - val_loss: 0.1570 - val_categorical_accuracy: 0.9386\n",
      "Epoch 31/50\n",
      "115/115 [==============================] - 15s 135ms/step - loss: 0.0797 - categorical_accuracy: 0.9709 - val_loss: 0.1476 - val_categorical_accuracy: 0.9389\n",
      "Epoch 32/50\n",
      "115/115 [==============================] - 2s 15ms/step - loss: 0.0882 - categorical_accuracy: 0.9643 - val_loss: 0.1628 - val_categorical_accuracy: 0.9362\n",
      "Epoch 33/50\n",
      "115/115 [==============================] - 2s 13ms/step - loss: 0.0871 - categorical_accuracy: 0.9643 - val_loss: 0.1681 - val_categorical_accuracy: 0.9376\n",
      "Epoch 34/50\n",
      "115/115 [==============================] - 2s 13ms/step - loss: 0.0870 - categorical_accuracy: 0.9656 - val_loss: 0.1708 - val_categorical_accuracy: 0.9348\n",
      "Epoch 35/50\n",
      "115/115 [==============================] - 2s 20ms/step - loss: 0.0844 - categorical_accuracy: 0.9686 - val_loss: 0.1788 - val_categorical_accuracy: 0.9321\n",
      "Epoch 36/50\n",
      "115/115 [==============================] - 1s 13ms/step - loss: 0.0771 - categorical_accuracy: 0.9697 - val_loss: 0.1643 - val_categorical_accuracy: 0.9389\n",
      "Epoch 37/50\n",
      "115/115 [==============================] - 1s 13ms/step - loss: 0.0843 - categorical_accuracy: 0.9666 - val_loss: 0.1558 - val_categorical_accuracy: 0.9376\n",
      "Epoch 38/50\n",
      "115/115 [==============================] - 2s 18ms/step - loss: 0.0783 - categorical_accuracy: 0.9687 - val_loss: 0.1534 - val_categorical_accuracy: 0.9430\n",
      "Epoch 39/50\n",
      "115/115 [==============================] - 2s 13ms/step - loss: 0.0794 - categorical_accuracy: 0.9710 - val_loss: 0.1624 - val_categorical_accuracy: 0.9423\n",
      "Epoch 40/50\n",
      "115/115 [==============================] - 2s 13ms/step - loss: 0.0730 - categorical_accuracy: 0.9726 - val_loss: 0.1648 - val_categorical_accuracy: 0.9369\n",
      "Epoch 41/50\n",
      "115/115 [==============================] - 2s 14ms/step - loss: 0.0797 - categorical_accuracy: 0.9725 - val_loss: 0.1523 - val_categorical_accuracy: 0.9410\n",
      "Epoch 42/50\n",
      "115/115 [==============================] - 2s 20ms/step - loss: 0.0761 - categorical_accuracy: 0.9727 - val_loss: 0.1600 - val_categorical_accuracy: 0.9382\n",
      "Epoch 43/50\n",
      "115/115 [==============================] - 2s 13ms/step - loss: 0.0727 - categorical_accuracy: 0.9743 - val_loss: 0.1510 - val_categorical_accuracy: 0.9393\n",
      "Epoch 44/50\n",
      "115/115 [==============================] - 2s 13ms/step - loss: 0.0772 - categorical_accuracy: 0.9727 - val_loss: 0.1765 - val_categorical_accuracy: 0.9376\n",
      "Epoch 45/50\n",
      "115/115 [==============================] - 2s 21ms/step - loss: 0.0828 - categorical_accuracy: 0.9679 - val_loss: 0.1720 - val_categorical_accuracy: 0.9386\n",
      "Epoch 46/50\n",
      "115/115 [==============================] - 2s 14ms/step - loss: 0.0782 - categorical_accuracy: 0.9712 - val_loss: 0.1706 - val_categorical_accuracy: 0.9365\n",
      "Epoch 47/50\n",
      "115/115 [==============================] - 2s 13ms/step - loss: 0.0801 - categorical_accuracy: 0.9715 - val_loss: 0.1678 - val_categorical_accuracy: 0.9416\n",
      "Epoch 48/50\n",
      "115/115 [==============================] - 2s 20ms/step - loss: 0.0819 - categorical_accuracy: 0.9673 - val_loss: 0.1510 - val_categorical_accuracy: 0.9420\n",
      "Epoch 49/50\n",
      "115/115 [==============================] - 2s 14ms/step - loss: 0.0731 - categorical_accuracy: 0.9724 - val_loss: 0.1703 - val_categorical_accuracy: 0.9382\n"
     ]
    },
    {
     "name": "stdout",
     "output_type": "stream",
     "text": [
      "Epoch 50/50\n",
      "115/115 [==============================] - 2s 14ms/step - loss: 0.0689 - categorical_accuracy: 0.9744 - val_loss: 0.1539 - val_categorical_accuracy: 0.9393\n"
     ]
    }
   ],
   "source": [
    "#Fitting the model on train and test data\n",
    "history_d = model_d.fit(train_x, train_y_ohe, validation_data=(test_x,test_y_ohe), epochs = 50, batch_size = 64)"
   ]
  },
  {
   "cell_type": "code",
   "execution_count": 196,
   "metadata": {},
   "outputs": [
    {
     "data": {
      "image/png": "[encoded data removed]",
      "text/plain": [
       "<Figure size 864x288 with 2 Axes>"
      ]
     },
     "metadata": {
      "needs_background": "light"
     },
     "output_type": "display_data"
    }
   ],
   "source": [
    "plot_accuracy_and_loss(history_d)"
   ]
  },
  {
   "cell_type": "markdown",
   "metadata": {},
   "source": [
    "<h3>6. Model using SGD and dropout "
   ]
  },
  {
   "cell_type": "code",
   "execution_count": 197,
   "metadata": {},
   "outputs": [],
   "source": [
    "opt_sgd = keras.optimizers.SGD(learning_rate=0.01, momentum=0.0, nesterov=False, name=\"SGD\")\n",
    "\n",
    "metrics = keras.metrics.CategoricalAccuracy()"
   ]
  },
  {
   "cell_type": "code",
   "execution_count": 198,
   "metadata": {},
   "outputs": [
    {
     "name": "stdout",
     "output_type": "stream",
     "text": [
      "Model: \"sequential_11\"\n",
      "_________________________________________________________________\n",
      "Layer (type)                 Output Shape              Param #   \n",
      "=================================================================\n",
      "dropout_1 (Dropout)          (None, 561)               0         \n",
      "_________________________________________________________________\n",
      "dense_23 (Dense)             (None, 29)                16298     \n",
      "_________________________________________________________________\n",
      "dense_24 (Dense)             (None, 6)                 180       \n",
      "=================================================================\n",
      "Total params: 16,478\n",
      "Trainable params: 16,478\n",
      "Non-trainable params: 0\n",
      "_________________________________________________________________\n"
     ]
    }
   ],
   "source": [
    "model_sgd = model(opt_sgd,metrics,dropout=True)"
   ]
  },
  {
   "cell_type": "code",
   "execution_count": 199,
   "metadata": {},
   "outputs": [
    {
     "name": "stdout",
     "output_type": "stream",
     "text": [
      "Epoch 1/50\n",
      "115/115 [==============================] - 3s 20ms/step - loss: 1.5191 - categorical_accuracy: 0.3623 - val_loss: 0.9322 - val_categorical_accuracy: 0.6905\n",
      "Epoch 2/50\n",
      "115/115 [==============================] - 2s 18ms/step - loss: 0.8835 - categorical_accuracy: 0.6702 - val_loss: 0.6722 - val_categorical_accuracy: 0.8056\n",
      "Epoch 3/50\n",
      "115/115 [==============================] - 2s 15ms/step - loss: 0.6579 - categorical_accuracy: 0.7639 - val_loss: 0.5419 - val_categorical_accuracy: 0.8558\n",
      "Epoch 4/50\n",
      "115/115 [==============================] - 2s 14ms/step - loss: 0.5406 - categorical_accuracy: 0.8036 - val_loss: 0.4716 - val_categorical_accuracy: 0.8422\n",
      "Epoch 5/50\n",
      "115/115 [==============================] - 2s 22ms/step - loss: 0.4690 - categorical_accuracy: 0.8265 - val_loss: 0.4124 - val_categorical_accuracy: 0.8839\n",
      "Epoch 6/50\n",
      "115/115 [==============================] - 1s 12ms/step - loss: 0.4138 - categorical_accuracy: 0.8430 - val_loss: 0.4035 - val_categorical_accuracy: 0.8680\n",
      "Epoch 7/50\n",
      "115/115 [==============================] - 1s 13ms/step - loss: 0.3928 - categorical_accuracy: 0.8450 - val_loss: 0.3456 - val_categorical_accuracy: 0.9026\n",
      "Epoch 8/50\n",
      "115/115 [==============================] - 3s 24ms/step - loss: 0.3597 - categorical_accuracy: 0.8694 - val_loss: 0.3245 - val_categorical_accuracy: 0.9057\n",
      "Epoch 9/50\n",
      "115/115 [==============================] - 2s 15ms/step - loss: 0.3321 - categorical_accuracy: 0.8793 - val_loss: 0.3143 - val_categorical_accuracy: 0.9006\n",
      "Epoch 10/50\n",
      "115/115 [==============================] - 2s 16ms/step - loss: 0.3238 - categorical_accuracy: 0.8746 - val_loss: 0.3072 - val_categorical_accuracy: 0.8911\n",
      "Epoch 11/50\n",
      "115/115 [==============================] - 2s 18ms/step - loss: 0.3044 - categorical_accuracy: 0.8821 - val_loss: 0.3061 - val_categorical_accuracy: 0.8941\n",
      "Epoch 12/50\n",
      "115/115 [==============================] - 1s 11ms/step - loss: 0.2888 - categorical_accuracy: 0.8880 - val_loss: 0.2790 - val_categorical_accuracy: 0.9138\n",
      "Epoch 13/50\n",
      "115/115 [==============================] - 1s 12ms/step - loss: 0.2791 - categorical_accuracy: 0.8978 - val_loss: 0.2727 - val_categorical_accuracy: 0.8890\n",
      "Epoch 14/50\n",
      "115/115 [==============================] - 2s 15ms/step - loss: 0.2755 - categorical_accuracy: 0.8959 - val_loss: 0.2704 - val_categorical_accuracy: 0.8890\n",
      "Epoch 15/50\n",
      "115/115 [==============================] - 2s 17ms/step - loss: 0.2651 - categorical_accuracy: 0.8945 - val_loss: 0.2359 - val_categorical_accuracy: 0.9294\n",
      "Epoch 16/50\n",
      "115/115 [==============================] - 1s 10ms/step - loss: 0.2509 - categorical_accuracy: 0.9040 - val_loss: 0.2368 - val_categorical_accuracy: 0.9253\n",
      "Epoch 17/50\n",
      "115/115 [==============================] - 1s 11ms/step - loss: 0.2454 - categorical_accuracy: 0.9038 - val_loss: 0.2264 - val_categorical_accuracy: 0.9264\n",
      "Epoch 18/50\n",
      "115/115 [==============================] - 1s 12ms/step - loss: 0.2398 - categorical_accuracy: 0.9097 - val_loss: 0.2196 - val_categorical_accuracy: 0.9301\n",
      "Epoch 19/50\n",
      "115/115 [==============================] - 2s 18ms/step - loss: 0.2307 - categorical_accuracy: 0.9145 - val_loss: 0.2247 - val_categorical_accuracy: 0.9213\n",
      "Epoch 20/50\n",
      "115/115 [==============================] - 1s 12ms/step - loss: 0.2295 - categorical_accuracy: 0.9113 - val_loss: 0.2201 - val_categorical_accuracy: 0.9223\n",
      "Epoch 21/50\n",
      "115/115 [==============================] - 1s 11ms/step - loss: 0.2157 - categorical_accuracy: 0.9195 - val_loss: 0.2111 - val_categorical_accuracy: 0.9311\n",
      "Epoch 22/50\n",
      "115/115 [==============================] - 1s 12ms/step - loss: 0.2139 - categorical_accuracy: 0.9171 - val_loss: 0.2189 - val_categorical_accuracy: 0.9304\n",
      "Epoch 23/50\n",
      "115/115 [==============================] - 2s 16ms/step - loss: 0.2127 - categorical_accuracy: 0.9193 - val_loss: 0.2003 - val_categorical_accuracy: 0.9345\n",
      "Epoch 24/50\n",
      "115/115 [==============================] - 1s 11ms/step - loss: 0.2053 - categorical_accuracy: 0.9219 - val_loss: 0.2123 - val_categorical_accuracy: 0.9325\n",
      "Epoch 25/50\n",
      "115/115 [==============================] - 1s 12ms/step - loss: 0.1986 - categorical_accuracy: 0.9240 - val_loss: 0.1959 - val_categorical_accuracy: 0.9338\n",
      "Epoch 26/50\n",
      "115/115 [==============================] - 2s 16ms/step - loss: 0.1981 - categorical_accuracy: 0.9247 - val_loss: 0.1982 - val_categorical_accuracy: 0.9403\n",
      "Epoch 27/50\n",
      "115/115 [==============================] - 2s 13ms/step - loss: 0.1871 - categorical_accuracy: 0.9291 - val_loss: 0.1899 - val_categorical_accuracy: 0.9335\n",
      "Epoch 28/50\n",
      "115/115 [==============================] - 1s 11ms/step - loss: 0.1881 - categorical_accuracy: 0.9292 - val_loss: 0.1893 - val_categorical_accuracy: 0.9311\n",
      "Epoch 29/50\n",
      "115/115 [==============================] - 1s 13ms/step - loss: 0.1862 - categorical_accuracy: 0.9289 - val_loss: 0.2128 - val_categorical_accuracy: 0.9043\n",
      "Epoch 30/50\n",
      "115/115 [==============================] - 2s 20ms/step - loss: 0.1782 - categorical_accuracy: 0.9353 - val_loss: 0.1982 - val_categorical_accuracy: 0.9220\n",
      "Epoch 31/50\n",
      "115/115 [==============================] - 1s 10ms/step - loss: 0.1679 - categorical_accuracy: 0.9383 - val_loss: 0.1793 - val_categorical_accuracy: 0.9389\n",
      "Epoch 32/50\n",
      "115/115 [==============================] - 1s 10ms/step - loss: 0.1730 - categorical_accuracy: 0.9326 - val_loss: 0.1915 - val_categorical_accuracy: 0.9359\n",
      "Epoch 33/50\n",
      "115/115 [==============================] - 1s 11ms/step - loss: 0.1636 - categorical_accuracy: 0.9428 - val_loss: 0.1823 - val_categorical_accuracy: 0.9315\n",
      "Epoch 34/50\n",
      "115/115 [==============================] - 2s 15ms/step - loss: 0.1586 - categorical_accuracy: 0.9432 - val_loss: 0.1956 - val_categorical_accuracy: 0.9169\n",
      "Epoch 35/50\n",
      "115/115 [==============================] - 1s 10ms/step - loss: 0.1594 - categorical_accuracy: 0.9409 - val_loss: 0.1762 - val_categorical_accuracy: 0.9403\n",
      "Epoch 36/50\n",
      "115/115 [==============================] - 1s 11ms/step - loss: 0.1645 - categorical_accuracy: 0.9399 - val_loss: 0.1674 - val_categorical_accuracy: 0.9430\n",
      "Epoch 37/50\n",
      "115/115 [==============================] - 1s 11ms/step - loss: 0.1565 - categorical_accuracy: 0.9442 - val_loss: 0.1730 - val_categorical_accuracy: 0.9393\n",
      "Epoch 38/50\n",
      "115/115 [==============================] - 1s 12ms/step - loss: 0.1651 - categorical_accuracy: 0.9333 - val_loss: 0.1564 - val_categorical_accuracy: 0.9518\n",
      "Epoch 39/50\n",
      "115/115 [==============================] - 2s 15ms/step - loss: 0.1595 - categorical_accuracy: 0.9390 - val_loss: 0.1661 - val_categorical_accuracy: 0.9437\n",
      "Epoch 40/50\n",
      "115/115 [==============================] - 1s 11ms/step - loss: 0.1550 - categorical_accuracy: 0.9402 - val_loss: 0.1694 - val_categorical_accuracy: 0.9389\n",
      "Epoch 41/50\n",
      "115/115 [==============================] - 1s 11ms/step - loss: 0.1550 - categorical_accuracy: 0.9376 - val_loss: 0.1570 - val_categorical_accuracy: 0.9467\n",
      "Epoch 42/50\n",
      "115/115 [==============================] - 2s 16ms/step - loss: 0.1532 - categorical_accuracy: 0.9445 - val_loss: 0.1629 - val_categorical_accuracy: 0.9423\n",
      "Epoch 43/50\n",
      "115/115 [==============================] - 2s 14ms/step - loss: 0.1453 - categorical_accuracy: 0.9475 - val_loss: 0.1605 - val_categorical_accuracy: 0.9457\n",
      "Epoch 44/50\n",
      "115/115 [==============================] - 2s 13ms/step - loss: 0.1353 - categorical_accuracy: 0.9502 - val_loss: 0.1591 - val_categorical_accuracy: 0.9440\n",
      "Epoch 45/50\n",
      "115/115 [==============================] - 1s 11ms/step - loss: 0.1448 - categorical_accuracy: 0.9441 - val_loss: 0.1798 - val_categorical_accuracy: 0.9260\n",
      "Epoch 46/50\n",
      "115/115 [==============================] - 2s 14ms/step - loss: 0.1457 - categorical_accuracy: 0.9465 - val_loss: 0.1534 - val_categorical_accuracy: 0.9471\n",
      "Epoch 47/50\n",
      "115/115 [==============================] - 1s 10ms/step - loss: 0.1455 - categorical_accuracy: 0.9471 - val_loss: 0.1645 - val_categorical_accuracy: 0.9457\n",
      "Epoch 48/50\n",
      "115/115 [==============================] - 1s 12ms/step - loss: 0.1347 - categorical_accuracy: 0.9499 - val_loss: 0.1709 - val_categorical_accuracy: 0.9348\n",
      "Epoch 49/50\n",
      "115/115 [==============================] - 1s 12ms/step - loss: 0.1380 - categorical_accuracy: 0.9450 - val_loss: 0.1709 - val_categorical_accuracy: 0.9332\n"
     ]
    },
    {
     "name": "stdout",
     "output_type": "stream",
     "text": [
      "Epoch 50/50\n",
      "115/115 [==============================] - 2s 19ms/step - loss: 0.1343 - categorical_accuracy: 0.9499 - val_loss: 0.1526 - val_categorical_accuracy: 0.9484\n"
     ]
    }
   ],
   "source": [
    "#Fitting the model on train and test data\n",
    "history_sgd = model_sgd.fit(train_x, train_y_ohe, validation_data=(test_x,test_y_ohe), epochs = 50, batch_size = 64)"
   ]
  },
  {
   "cell_type": "code",
   "execution_count": 200,
   "metadata": {},
   "outputs": [
    {
     "data": {
      "image/png": "[encoded data removed]",
      "text/plain": [
       "<Figure size 864x288 with 2 Axes>"
      ]
     },
     "metadata": {
      "needs_background": "light"
     },
     "output_type": "display_data"
    }
   ],
   "source": [
    "plot_accuracy_and_loss(history_sgd)"
   ]
  },
  {
   "cell_type": "markdown",
   "metadata": {},
   "source": [
    "<h3>7. SGD with momentum and Dropout"
   ]
  },
  {
   "cell_type": "code",
   "execution_count": 201,
   "metadata": {},
   "outputs": [],
   "source": [
    "opt_sgd_mom = keras.optimizers.SGD(learning_rate=0.01, momentum=0.9, nesterov=False, name=\"SGD\")\n",
    "\n",
    "metrics = keras.metrics.CategoricalAccuracy()"
   ]
  },
  {
   "cell_type": "code",
   "execution_count": 202,
   "metadata": {},
   "outputs": [
    {
     "name": "stdout",
     "output_type": "stream",
     "text": [
      "Model: \"sequential_12\"\n",
      "_________________________________________________________________\n",
      "Layer (type)                 Output Shape              Param #   \n",
      "=================================================================\n",
      "dropout_2 (Dropout)          (None, 561)               0         \n",
      "_________________________________________________________________\n",
      "dense_25 (Dense)             (None, 29)                16298     \n",
      "_________________________________________________________________\n",
      "dense_26 (Dense)             (None, 6)                 180       \n",
      "=================================================================\n",
      "Total params: 16,478\n",
      "Trainable params: 16,478\n",
      "Non-trainable params: 0\n",
      "_________________________________________________________________\n"
     ]
    }
   ],
   "source": [
    "model_sgd_mom = model(opt_sgd_mom,metrics,dropout=True)"
   ]
  },
  {
   "cell_type": "code",
   "execution_count": 204,
   "metadata": {
    "scrolled": true
   },
   "outputs": [
    {
     "name": "stdout",
     "output_type": "stream",
     "text": [
      "Epoch 1/50\n",
      "115/115 [==============================] - 2s 19ms/step - loss: 0.1786 - categorical_accuracy: 0.9242 - val_loss: 0.1532 - val_categorical_accuracy: 0.9440\n",
      "Epoch 2/50\n",
      "115/115 [==============================] - 2s 14ms/step - loss: 0.1629 - categorical_accuracy: 0.9301 - val_loss: 0.1556 - val_categorical_accuracy: 0.9362\n",
      "Epoch 3/50\n",
      "115/115 [==============================] - 2s 14ms/step - loss: 0.1481 - categorical_accuracy: 0.9402 - val_loss: 0.1635 - val_categorical_accuracy: 0.9359\n",
      "Epoch 4/50\n",
      "115/115 [==============================] - 3s 23ms/step - loss: 0.1404 - categorical_accuracy: 0.9445 - val_loss: 0.1730 - val_categorical_accuracy: 0.9355\n",
      "Epoch 5/50\n",
      "115/115 [==============================] - 2s 14ms/step - loss: 0.1412 - categorical_accuracy: 0.9426 - val_loss: 0.1513 - val_categorical_accuracy: 0.9410\n",
      "Epoch 6/50\n",
      "115/115 [==============================] - 2s 19ms/step - loss: 0.1550 - categorical_accuracy: 0.9361 - val_loss: 0.1814 - val_categorical_accuracy: 0.9304\n",
      "Epoch 7/50\n",
      "115/115 [==============================] - 2s 14ms/step - loss: 0.1294 - categorical_accuracy: 0.9474 - val_loss: 0.2061 - val_categorical_accuracy: 0.9158\n",
      "Epoch 8/50\n",
      "115/115 [==============================] - 1s 13ms/step - loss: 0.1373 - categorical_accuracy: 0.9465 - val_loss: 0.1646 - val_categorical_accuracy: 0.9342\n",
      "Epoch 9/50\n",
      "115/115 [==============================] - 2s 15ms/step - loss: 0.1191 - categorical_accuracy: 0.9540 - val_loss: 0.1462 - val_categorical_accuracy: 0.9464\n",
      "Epoch 10/50\n",
      "115/115 [==============================] - 2s 18ms/step - loss: 0.1132 - categorical_accuracy: 0.9551 - val_loss: 0.1477 - val_categorical_accuracy: 0.9423\n",
      "Epoch 11/50\n",
      "115/115 [==============================] - 2s 15ms/step - loss: 0.1265 - categorical_accuracy: 0.9491 - val_loss: 0.1493 - val_categorical_accuracy: 0.9403\n",
      "Epoch 12/50\n",
      "115/115 [==============================] - 2s 15ms/step - loss: 0.1354 - categorical_accuracy: 0.9460 - val_loss: 0.1824 - val_categorical_accuracy: 0.9325\n",
      "Epoch 13/50\n",
      "115/115 [==============================] - 2s 20ms/step - loss: 0.1135 - categorical_accuracy: 0.9548 - val_loss: 0.1571 - val_categorical_accuracy: 0.9416\n",
      "Epoch 14/50\n",
      "115/115 [==============================] - 2s 14ms/step - loss: 0.1224 - categorical_accuracy: 0.9508 - val_loss: 0.1855 - val_categorical_accuracy: 0.9223\n",
      "Epoch 15/50\n",
      "115/115 [==============================] - 1s 12ms/step - loss: 0.1010 - categorical_accuracy: 0.9611 - val_loss: 0.1554 - val_categorical_accuracy: 0.9396\n",
      "Epoch 16/50\n",
      "115/115 [==============================] - 2s 16ms/step - loss: 0.1160 - categorical_accuracy: 0.9497 - val_loss: 0.1732 - val_categorical_accuracy: 0.9318\n",
      "Epoch 17/50\n",
      "115/115 [==============================] - 2s 14ms/step - loss: 0.1033 - categorical_accuracy: 0.9587 - val_loss: 0.1755 - val_categorical_accuracy: 0.9355\n",
      "Epoch 18/50\n",
      "115/115 [==============================] - 2s 15ms/step - loss: 0.1028 - categorical_accuracy: 0.9599 - val_loss: 0.1483 - val_categorical_accuracy: 0.9430\n",
      "Epoch 19/50\n",
      "115/115 [==============================] - 2s 14ms/step - loss: 0.0999 - categorical_accuracy: 0.9596 - val_loss: 0.1344 - val_categorical_accuracy: 0.9522\n",
      "Epoch 20/50\n",
      "115/115 [==============================] - 3s 22ms/step - loss: 0.1044 - categorical_accuracy: 0.9580 - val_loss: 0.1570 - val_categorical_accuracy: 0.9399\n",
      "Epoch 21/50\n",
      "115/115 [==============================] - 2s 16ms/step - loss: 0.1060 - categorical_accuracy: 0.9565 - val_loss: 0.1597 - val_categorical_accuracy: 0.9399\n",
      "Epoch 22/50\n",
      "115/115 [==============================] - 2s 15ms/step - loss: 0.1170 - categorical_accuracy: 0.9535 - val_loss: 0.2038 - val_categorical_accuracy: 0.9240\n",
      "Epoch 23/50\n",
      "115/115 [==============================] - 2s 21ms/step - loss: 0.1096 - categorical_accuracy: 0.9567 - val_loss: 0.1684 - val_categorical_accuracy: 0.9352\n",
      "Epoch 24/50\n",
      "115/115 [==============================] - 2s 17ms/step - loss: 0.1044 - categorical_accuracy: 0.9584 - val_loss: 0.1674 - val_categorical_accuracy: 0.9386\n",
      "Epoch 25/50\n",
      "115/115 [==============================] - 2s 16ms/step - loss: 0.0961 - categorical_accuracy: 0.9645 - val_loss: 0.1440 - val_categorical_accuracy: 0.9447\n",
      "Epoch 26/50\n",
      "115/115 [==============================] - 2s 21ms/step - loss: 0.0985 - categorical_accuracy: 0.9589 - val_loss: 0.1864 - val_categorical_accuracy: 0.9270\n",
      "Epoch 27/50\n",
      "115/115 [==============================] - 1s 13ms/step - loss: 0.1121 - categorical_accuracy: 0.9553 - val_loss: 0.1564 - val_categorical_accuracy: 0.9420\n",
      "Epoch 28/50\n",
      "115/115 [==============================] - 2s 18ms/step - loss: 0.0945 - categorical_accuracy: 0.9635 - val_loss: 0.1610 - val_categorical_accuracy: 0.9396\n",
      "Epoch 29/50\n",
      "115/115 [==============================] - 3s 24ms/step - loss: 0.0993 - categorical_accuracy: 0.9596 - val_loss: 0.2343 - val_categorical_accuracy: 0.9182\n",
      "Epoch 30/50\n",
      "115/115 [==============================] - 2s 13ms/step - loss: 0.1114 - categorical_accuracy: 0.9553 - val_loss: 0.2046 - val_categorical_accuracy: 0.9237\n",
      "Epoch 31/50\n",
      "115/115 [==============================] - 1s 12ms/step - loss: 0.0923 - categorical_accuracy: 0.9631 - val_loss: 0.2119 - val_categorical_accuracy: 0.9189\n",
      "Epoch 32/50\n",
      "115/115 [==============================] - 2s 20ms/step - loss: 0.0983 - categorical_accuracy: 0.9601 - val_loss: 0.1504 - val_categorical_accuracy: 0.9430\n",
      "Epoch 33/50\n",
      "115/115 [==============================] - 2s 14ms/step - loss: 0.0916 - categorical_accuracy: 0.9626 - val_loss: 0.1729 - val_categorical_accuracy: 0.9365\n",
      "Epoch 34/50\n",
      "115/115 [==============================] - 2s 18ms/step - loss: 0.0919 - categorical_accuracy: 0.9650 - val_loss: 0.1849 - val_categorical_accuracy: 0.9294\n",
      "Epoch 35/50\n",
      "115/115 [==============================] - 3s 26ms/step - loss: 0.0965 - categorical_accuracy: 0.9593 - val_loss: 0.1536 - val_categorical_accuracy: 0.9423\n",
      "Epoch 36/50\n",
      "115/115 [==============================] - 2s 15ms/step - loss: 0.0941 - categorical_accuracy: 0.9626 - val_loss: 0.1592 - val_categorical_accuracy: 0.9382\n",
      "Epoch 37/50\n",
      "115/115 [==============================] - 2s 14ms/step - loss: 0.0864 - categorical_accuracy: 0.9642 - val_loss: 0.1444 - val_categorical_accuracy: 0.9494\n",
      "Epoch 38/50\n",
      "115/115 [==============================] - 2s 18ms/step - loss: 0.0904 - categorical_accuracy: 0.9630 - val_loss: 0.1891 - val_categorical_accuracy: 0.9342\n",
      "Epoch 39/50\n",
      "115/115 [==============================] - 2s 15ms/step - loss: 0.0893 - categorical_accuracy: 0.9652 - val_loss: 0.1750 - val_categorical_accuracy: 0.9315\n",
      "Epoch 40/50\n",
      "115/115 [==============================] - 1s 12ms/step - loss: 0.0877 - categorical_accuracy: 0.9665 - val_loss: 0.1536 - val_categorical_accuracy: 0.9427\n",
      "Epoch 41/50\n",
      "115/115 [==============================] - 2s 19ms/step - loss: 0.1081 - categorical_accuracy: 0.9566 - val_loss: 0.1743 - val_categorical_accuracy: 0.9386\n",
      "Epoch 42/50\n",
      "115/115 [==============================] - 1s 13ms/step - loss: 0.0918 - categorical_accuracy: 0.9629 - val_loss: 0.1440 - val_categorical_accuracy: 0.9491\n",
      "Epoch 43/50\n",
      "115/115 [==============================] - 2s 17ms/step - loss: 0.0889 - categorical_accuracy: 0.9668 - val_loss: 0.1484 - val_categorical_accuracy: 0.9464\n",
      "Epoch 44/50\n",
      "115/115 [==============================] - 2s 19ms/step - loss: 0.1109 - categorical_accuracy: 0.9555 - val_loss: 0.2359 - val_categorical_accuracy: 0.9182\n",
      "Epoch 45/50\n",
      "115/115 [==============================] - 2s 15ms/step - loss: 0.0916 - categorical_accuracy: 0.9618 - val_loss: 0.2126 - val_categorical_accuracy: 0.9230\n",
      "Epoch 46/50\n",
      "115/115 [==============================] - 2s 19ms/step - loss: 0.0904 - categorical_accuracy: 0.9629 - val_loss: 0.1932 - val_categorical_accuracy: 0.9301\n",
      "Epoch 47/50\n",
      "115/115 [==============================] - 3s 22ms/step - loss: 0.0944 - categorical_accuracy: 0.9606 - val_loss: 0.1932 - val_categorical_accuracy: 0.9311\n",
      "Epoch 48/50\n",
      "115/115 [==============================] - 1s 12ms/step - loss: 0.0934 - categorical_accuracy: 0.9637 - val_loss: 0.1420 - val_categorical_accuracy: 0.9460\n",
      "Epoch 49/50\n",
      "115/115 [==============================] - 2s 14ms/step - loss: 0.0869 - categorical_accuracy: 0.9663 - val_loss: 0.1619 - val_categorical_accuracy: 0.9433\n"
     ]
    },
    {
     "name": "stdout",
     "output_type": "stream",
     "text": [
      "Epoch 50/50\n",
      "115/115 [==============================] - 2s 14ms/step - loss: 0.0923 - categorical_accuracy: 0.9622 - val_loss: 0.1824 - val_categorical_accuracy: 0.9345\n"
     ]
    }
   ],
   "source": [
    "#Fitting the model on train and test data\n",
    "history_sgd_mom = model_sgd_mom.fit(train_x, train_y_ohe, validation_data=(test_x,test_y_ohe), epochs = 50, batch_size = 64)"
   ]
  },
  {
   "cell_type": "code",
   "execution_count": 205,
   "metadata": {},
   "outputs": [
    {
     "data": {
      "image/png": "[encoded data removed]",
      "text/plain": [
       "<Figure size 864x288 with 2 Axes>"
      ]
     },
     "metadata": {
      "needs_background": "light"
     },
     "output_type": "display_data"
    }
   ],
   "source": [
    "plot_accuracy_and_loss(history_sgd_mom)"
   ]
  },
  {
   "cell_type": "markdown",
   "metadata": {},
   "source": [
    "<b>Conclusion : The SGD model has less overall accuracy but it is not overfitting, other models are overfitting"
   ]
  },
  {
   "cell_type": "markdown",
   "metadata": {},
   "source": [
    "<h3>7. Saving the model"
   ]
  },
  {
   "cell_type": "code",
   "execution_count": 212,
   "metadata": {
    "scrolled": true
   },
   "outputs": [
    {
     "name": "stdout",
     "output_type": "stream",
     "text": [
      "Saved model to disk\n"
     ]
    }
   ],
   "source": [
    "model_json = model_sgd_mom.to_json()\n",
    "with open(\"model_sgd_mom.json\", \"w\") as json_file:\n",
    "    json_file.write(model_json)\n",
    "# serialize weights to HDF5\n",
    "model_sgd_mom.save_weights(\"model_sgd_mom.h5\")\n",
    "print(\"Saved model to disk\")"
   ]
  },
  {
   "cell_type": "markdown",
   "metadata": {},
   "source": [
    "<h3>8. Loading the model"
   ]
  },
  {
   "cell_type": "code",
   "execution_count": 230,
   "metadata": {},
   "outputs": [
    {
     "name": "stdout",
     "output_type": "stream",
     "text": [
      "Loaded model from disk\n"
     ]
    }
   ],
   "source": [
    "# load json and create model\n",
    "json_file = open('model_sgd_mom.json', 'r')\n",
    "loaded_model_json = json_file.read()\n",
    "json_file.close()\n",
    "loaded_model = model_from_json(loaded_model_json)\n",
    "# load weights into new model\n",
    "loaded_model.load_weights(\"model_sgd_mom.h5\")\n",
    "print(\"Loaded model from disk\")\n",
    " \n",
    "# evaluate loaded model on test data\n",
    "loaded_model.compile(loss='categorical_crossentropy', optimizer='SGD', metrics=['CategoricalAccuracy'])\n",
    "#score = loaded_model.evaluate(X, Y, verbose=0)\n",
    "#print(\"%s: %.2f%%\" % (loaded_model.metrics_names[1], score[1]*100))\n"
   ]
  },
  {
   "cell_type": "code",
   "execution_count": 228,
   "metadata": {},
   "outputs": [
    {
     "data": {
      "text/plain": [
       "array([[9.9972767e-01, 2.7219270e-04, 4.4825681e-09, 2.4931968e-10,\n",
       "        9.9274288e-08, 2.6001554e-10]], dtype=float32)"
      ]
     },
     "execution_count": 228,
     "metadata": {},
     "output_type": "execute_result"
    }
   ],
   "source": [
    "#Predicting using the \n",
    "model_sgd_mom.predict(train_data.iloc[[2494],0:561].values)"
   ]
  },
  {
   "cell_type": "code",
   "execution_count": 231,
   "metadata": {},
   "outputs": [
    {
     "data": {
      "text/plain": [
       "array([[9.9972767e-01, 2.7219270e-04, 4.4825681e-09, 2.4931968e-10,\n",
       "        9.9274288e-08, 2.6001554e-10]], dtype=float32)"
      ]
     },
     "execution_count": 231,
     "metadata": {},
     "output_type": "execute_result"
    }
   ],
   "source": [
    "#Predicting using the loaded model\n",
    "loaded_model.predict(train_data.iloc[[2494],0:561].values)"
   ]
  },
  {
   "cell_type": "code",
   "execution_count": 232,
   "metadata": {},
   "outputs": [
    {
     "name": "stdout",
     "output_type": "stream",
     "text": [
      "Model: \"sequential_12\"\n",
      "_________________________________________________________________\n",
      "Layer (type)                 Output Shape              Param #   \n",
      "=================================================================\n",
      "dropout_2 (Dropout)          (None, 561)               0         \n",
      "_________________________________________________________________\n",
      "dense_25 (Dense)             (None, 29)                16298     \n",
      "_________________________________________________________________\n",
      "dense_26 (Dense)             (None, 6)                 180       \n",
      "=================================================================\n",
      "Total params: 16,478\n",
      "Trainable params: 16,478\n",
      "Non-trainable params: 0\n",
      "_________________________________________________________________\n"
     ]
    }
   ],
   "source": [
    "loaded_model.summary()"
   ]
  },
  {
   "cell_type": "code",
   "execution_count": null,
   "metadata": {},
   "outputs": [],
   "source": []
  },
  {
   "cell_type": "markdown",
   "metadata": {},
   "source": [
    "<h1>Training an LSTM model"
   ]
  },
  {
   "cell_type": "code",
   "execution_count": null,
   "metadata": {},
   "outputs": [],
   "source": []
  },
  {
   "cell_type": "code",
   "execution_count": null,
   "metadata": {},
   "outputs": [],
   "source": []
  },
  {
   "cell_type": "code",
   "execution_count": null,
   "metadata": {},
   "outputs": [],
   "source": []
  },
  {
   "cell_type": "code",
   "execution_count": null,
   "metadata": {},
   "outputs": [],
   "source": []
  },
  {
   "cell_type": "code",
   "execution_count": null,
   "metadata": {},
   "outputs": [],
   "source": []
  }
 ],
 "metadata": {
  "kernelspec": {
   "display_name": "Python 3",
   "language": "python",
   "name": "python3"
  },
  "language_info": {
   "codemirror_mode": {
    "name": "ipython",
    "version": 3
   },
   "file_extension": ".py",
   "mimetype": "text/x-python",
   "name": "python",
   "nbconvert_exporter": "python",
   "pygments_lexer": "ipython3",
   "version": "3.7.6"
  }
 },
 "nbformat": 4,
 "nbformat_minor": 4
}
